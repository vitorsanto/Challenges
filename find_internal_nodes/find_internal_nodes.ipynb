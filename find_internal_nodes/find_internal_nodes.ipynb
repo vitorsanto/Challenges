{
 "cells": [
  {
   "cell_type": "markdown",
   "metadata": {
    "pycharm": {
     "name": "#%% md\n"
    }
   },
   "source": [
    "# Find Internal Nodes #\n",
    "Find and return the number of internal nodes given a list of parent nodes.\n",
    "\n",
    "### Prams:\n",
    "   * `tree`: List of parent nodes.\n",
    "\n",
    "### Return:\n",
    "   * `int`: Number of internal nodes.\n",
    "\n"
   ]
  },
  {
   "cell_type": "code",
   "execution_count": null,
   "outputs": [],
   "source": [
    "def find_internal_nodes_num(tree: list) -> int:\n",
    "    invalid_nodes = [tree.index(-1), -1]\n",
    "    return len(set(node for node in tree if node not in invalid_nodes))"
   ],
   "metadata": {
    "collapsed": false,
    "pycharm": {
     "name": "#%%\n"
    }
   }
  },
  {
   "cell_type": "code",
   "execution_count": null,
   "outputs": [],
   "source": [
    "my_tree=[4, 4, 1, 5, -1, 4, 5]\n",
    "find_internal_nodes_num(my_tree)\n"
   ],
   "metadata": {
    "collapsed": false,
    "pycharm": {
     "name": "#%%\n"
    }
   }
  }
 ],
 "metadata": {
  "kernelspec": {
   "display_name": "Python 3 (ipykernel)",
   "language": "python",
   "name": "python3"
  },
  "language_info": {
   "codemirror_mode": {
    "name": "ipython",
    "version": 3
   },
   "file_extension": ".py",
   "mimetype": "text/x-python",
   "name": "python",
   "nbconvert_exporter": "python",
   "pygments_lexer": "ipython3",
   "version": "3.8.10"
  }
 },
 "nbformat": 4,
 "nbformat_minor": 1
}