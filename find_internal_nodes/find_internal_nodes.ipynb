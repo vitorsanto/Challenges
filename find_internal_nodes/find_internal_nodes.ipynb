{
 "cells": [
  {
   "cell_type": "code",
   "execution_count": 1,
   "metadata": {
    "pycharm": {
     "name": "#%%\n"
    }
   },
   "outputs": [],
   "source": [
    "def find_internal_nodes_num(tree: list) -> int:\n",
    "    \"\"\"\n",
    "    Find and return the number of internal nodes\n",
    "    given a list of parent nodes\n",
    "    :param tree: list of parent nodes\n",
    "    :return int: number of internal nodes\n",
    "    \"\"\"\n",
    "    invalid_nodes = [tree.index(-1), -1]\n",
    "    return len(set(node for node in tree if node not in invalid_nodes))"
   ]
  },
  {
   "cell_type": "code",
   "execution_count": 2,
   "metadata": {},
   "outputs": [
    {
     "data": {
      "text/plain": [
       "2"
      ]
     },
     "execution_count": 2,
     "metadata": {},
     "output_type": "execute_result"
    }
   ],
   "source": [
    "my_tree=[4, 4, 1, 5, -1, 4, 5]\n",
    "find_internal_nodes_num(my_tree)"
   ]
  },
  {
   "cell_type": "code",
   "execution_count": 2,
   "metadata": {
    "pycharm": {
     "name": "#%%\n"
    }
   },
   "outputs": [
    {
     "data": {
      "text/plain": [
       "2"
      ]
     },
     "execution_count": 2,
     "metadata": {},
     "output_type": "execute_result"
    }
   ],
   "source": [
    "my_tree=[4, 4, 1, 5, -1, 4, 5]\n",
    "find_internal_nodes_num(my_tree)\n"
   ]
  }
 ],
 "metadata": {
  "kernelspec": {
   "display_name": "Python 3 (ipykernel)",
   "language": "python",
   "name": "python3"
  },
  "language_info": {
   "codemirror_mode": {
    "name": "ipython",
    "version": 3
   },
   "file_extension": ".py",
   "mimetype": "text/x-python",
   "name": "python",
   "nbconvert_exporter": "python",
   "pygments_lexer": "ipython3",
   "version": "3.8.10"
  }
 },
 "nbformat": 4,
 "nbformat_minor": 1
}